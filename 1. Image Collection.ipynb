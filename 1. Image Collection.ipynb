{
 "cells": [
  {
   "cell_type": "markdown",
   "metadata": {},
   "source": [
    "# 1. Import Dependencies"
   ]
  },
  {
   "cell_type": "code",
   "execution_count": 1,
   "metadata": {},
   "outputs": [
    {
     "name": "stdout",
     "output_type": "stream",
     "text": [
      "Collecting opencv-python\n",
      "  Using cached opencv_python-4.6.0.66-cp36-abi3-win_amd64.whl (35.6 MB)\n",
      "Collecting numpy>=1.14.5\n",
      "  Using cached numpy-1.21.6-cp37-cp37m-win_amd64.whl (14.0 MB)\n",
      "Installing collected packages: numpy, opencv-python\n",
      "Successfully installed numpy-1.21.6 opencv-python-4.6.0.66\n"
     ]
    },
    {
     "name": "stderr",
     "output_type": "stream",
     "text": [
      "ERROR: pip's dependency resolver does not currently take into account all the packages that are installed. This behaviour is the source of the following dependency conflicts.\n",
      "sacrebleu 2.2.0 requires lxml, which is not installed.\n",
      "sacrebleu 2.2.0 requires portalocker, which is not installed.\n",
      "sacrebleu 2.2.0 requires regex, which is not installed.\n",
      "sacrebleu 2.2.0 requires tabulate>=0.8.9, which is not installed.\n",
      "tf-models-official 2.10.0 requires Cython, which is not installed.\n",
      "tf-models-official 2.10.0 requires gin-config, which is not installed.\n",
      "tf-models-official 2.10.0 requires google-api-python-client>=1.6.7, which is not installed.\n",
      "tf-models-official 2.10.0 requires immutabledict, which is not installed.\n",
      "tf-models-official 2.10.0 requires kaggle>=1.3.9, which is not installed.\n",
      "tf-models-official 2.10.0 requires matplotlib, which is not installed.\n",
      "tf-models-official 2.10.0 requires oauth2client, which is not installed.\n",
      "tf-models-official 2.10.0 requires opencv-python-headless==4.5.2.52, which is not installed.\n",
      "tf-models-official 2.10.0 requires pandas>=0.22.0, which is not installed.\n",
      "tf-models-official 2.10.0 requires Pillow, which is not installed.\n",
      "tf-models-official 2.10.0 requires py-cpuinfo>=3.3.0, which is not installed.\n",
      "tf-models-official 2.10.0 requires pycocotools, which is not installed.\n",
      "tf-models-official 2.10.0 requires pyyaml<6.0,>=5.1, which is not installed.\n",
      "tf-models-official 2.10.0 requires scipy>=0.19.1, which is not installed.\n",
      "tf-models-official 2.10.0 requires sentencepiece, which is not installed.\n",
      "tf-models-official 2.10.0 requires seqeval, which is not installed.\n",
      "tf-models-official 2.10.0 requires tensorflow~=2.10.0, which is not installed.\n",
      "tf-models-official 2.10.0 requires tensorflow-addons, which is not installed.\n",
      "tf-models-official 2.10.0 requires tensorflow-datasets, which is not installed.\n",
      "tf-models-official 2.10.0 requires tensorflow-hub>=0.6.0, which is not installed.\n",
      "tf-models-official 2.10.0 requires tensorflow-model-optimization>=0.4.1, which is not installed.\n",
      "tf-models-official 2.10.0 requires tensorflow-text~=2.10.0, which is not installed.\n",
      "tf-models-official 2.10.0 requires tf-slim>=1.1.0, which is not installed.\n"
     ]
    }
   ],
   "source": [
    "!pip install opencv-python"
   ]
  },
  {
   "cell_type": "code",
   "execution_count": 2,
   "metadata": {},
   "outputs": [],
   "source": [
    "# Import opencv\n",
    "import cv2 \n",
    "\n",
    "# Import uuid\n",
    "import uuid\n",
    "\n",
    "# Import Operating System\n",
    "import os\n",
    "\n",
    "# Import time\n",
    "import time"
   ]
  },
  {
   "cell_type": "markdown",
   "metadata": {},
   "source": [
    "# 2. Define Images to Collect"
   ]
  },
  {
   "cell_type": "code",
   "execution_count": 6,
   "metadata": {},
   "outputs": [],
   "source": [
    "labels = ['thumbsup', 'thumbsdown', 'thankyou', 'livelong']\n",
    "number_imgs = 5"
   ]
  },
  {
   "cell_type": "code",
   "execution_count": 7,
   "metadata": {},
   "outputs": [
    {
     "data": {
      "text/plain": [
       "5"
      ]
     },
     "execution_count": 7,
     "metadata": {},
     "output_type": "execute_result"
    }
   ],
   "source": [
    "number_imgs"
   ]
  },
  {
   "cell_type": "markdown",
   "metadata": {},
   "source": [
    "# 3. Setup Folders "
   ]
  },
  {
   "cell_type": "code",
   "execution_count": 3,
   "metadata": {},
   "outputs": [],
   "source": [
    "IMAGES_PATH = os.path.join('Tensorflow', 'workspace', 'images', 'collectedimages')"
   ]
  },
  {
   "cell_type": "code",
   "execution_count": 4,
   "metadata": {},
   "outputs": [
    {
     "data": {
      "text/plain": [
       "'nt'"
      ]
     },
     "execution_count": 4,
     "metadata": {},
     "output_type": "execute_result"
    }
   ],
   "source": [
    "os.name"
   ]
  },
  {
   "cell_type": "code",
   "execution_count": 8,
   "metadata": {},
   "outputs": [],
   "source": [
    "if not os.path.exists(IMAGES_PATH):\n",
    "    if os.name == 'posix':\n",
    "        !mkdir -p {IMAGES_PATH}\n",
    "    if os.name == 'nt':\n",
    "         !mkdir {IMAGES_PATH}\n",
    "for label in labels:\n",
    "    path = os.path.join(IMAGES_PATH, label)\n",
    "    if not os.path.exists(path):\n",
    "        !mkdir {path}"
   ]
  },
  {
   "cell_type": "markdown",
   "metadata": {},
   "source": [
    "# 4. Capture Images"
   ]
  },
  {
   "cell_type": "code",
   "execution_count": 8,
   "metadata": {},
   "outputs": [
    {
     "name": "stdout",
     "output_type": "stream",
     "text": [
      "Collecting images for thumbsup\n",
      "Collecting image 0\n",
      "Collecting image 1\n",
      "Collecting image 2\n",
      "Collecting image 3\n",
      "Collecting image 4\n",
      "Collecting images for thumbsdown\n",
      "Collecting image 0\n",
      "Collecting image 1\n",
      "Collecting image 2\n",
      "Collecting image 3\n",
      "Collecting image 4\n",
      "Collecting images for thankyou\n",
      "Collecting image 0\n",
      "Collecting image 1\n",
      "Collecting image 2\n",
      "Collecting image 3\n",
      "Collecting image 4\n",
      "Collecting images for livelong\n",
      "Collecting image 0\n",
      "Collecting image 1\n",
      "Collecting image 2\n",
      "Collecting image 3\n",
      "Collecting image 4\n"
     ]
    }
   ],
   "source": [
    "for label in labels:\n",
    "    cap = cv2.VideoCapture(0)\n",
    "    print('Collecting images for {}'.format(label))\n",
    "    time.sleep(5)\n",
    "    for imgnum in range(number_imgs):\n",
    "        print('Collecting image {}'.format(imgnum))\n",
    "        ret, frame = cap.read()\n",
    "        imgname = os.path.join(IMAGES_PATH,label,label+'.'+'{}.jpg'.format(str(uuid.uuid1())))\n",
    "        cv2.imwrite(imgname, frame)\n",
    "        cv2.imshow('frame', frame)\n",
    "        time.sleep(2)\n",
    "\n",
    "        if cv2.waitKey(1) & 0xFF == ord('q'):\n",
    "            break\n",
    "cap.release()\n",
    "cv2.destroyAllWindows()"
   ]
  },
  {
   "cell_type": "markdown",
   "metadata": {},
   "source": [
    "# 5. Image Labelling"
   ]
  },
  {
   "cell_type": "code",
   "execution_count": 7,
   "metadata": {},
   "outputs": [
    {
     "name": "stdout",
     "output_type": "stream",
     "text": [
      "Requirement already satisfied: pyqt5 in e:\\tenserflow object detection\\tfodcourse\\tfod\\lib\\site-packages (5.15.7)\n",
      "Requirement already satisfied: lxml in e:\\tenserflow object detection\\tfodcourse\\tfod\\lib\\site-packages (4.9.1)\n",
      "Requirement already satisfied: PyQt5-Qt5>=5.15.0 in e:\\tenserflow object detection\\tfodcourse\\tfod\\lib\\site-packages (from pyqt5) (5.15.2)\n",
      "Requirement already satisfied: PyQt5-sip<13,>=12.11 in e:\\tenserflow object detection\\tfodcourse\\tfod\\lib\\site-packages (from pyqt5) (12.11.0)\n"
     ]
    }
   ],
   "source": [
    "!pip install --upgrade pyqt5 lxml"
   ]
  },
  {
   "cell_type": "code",
   "execution_count": 8,
   "metadata": {},
   "outputs": [
    {
     "name": "stdout",
     "output_type": "stream",
     "text": [
      "Package           Version\n",
      "----------------- --------\n",
      "backcall          0.2.0\n",
      "colorama          0.4.5\n",
      "debugpy           1.6.3\n",
      "decorator         5.1.1\n",
      "entrypoints       0.4\n",
      "ipykernel         6.15.3\n",
      "ipython           7.34.0\n",
      "jedi              0.18.1\n",
      "jupyter_client    7.3.5\n",
      "jupyter-core      4.11.1\n",
      "lxml              4.9.1\n",
      "matplotlib-inline 0.1.6\n",
      "nest-asyncio      1.5.5\n",
      "numpy             1.21.6\n",
      "opencv-python     4.6.0.66\n",
      "packaging         21.3\n",
      "parso             0.8.3\n",
      "pickleshare       0.7.5\n",
      "pip               22.2.2\n",
      "prompt-toolkit    3.0.31\n",
      "psutil            5.9.2\n",
      "Pygments          2.13.0\n",
      "pyparsing         3.0.9\n",
      "PyQt5             5.15.7\n",
      "PyQt5-Qt5         5.15.2\n",
      "PyQt5-sip         12.11.0\n",
      "python-dateutil   2.8.2\n",
      "pywin32           304\n",
      "pyzmq             24.0.1\n",
      "setuptools        40.8.0\n",
      "six               1.16.0\n",
      "tornado           6.2\n",
      "traitlets         5.4.0\n",
      "wcwidth           0.2.5\n",
      "wget              3.2\n"
     ]
    }
   ],
   "source": [
    "!pip list"
   ]
  },
  {
   "cell_type": "code",
   "execution_count": 9,
   "metadata": {},
   "outputs": [],
   "source": [
    "LABELIMG_PATH = os.path.join('Tensorflow', 'labelimg')"
   ]
  },
  {
   "cell_type": "code",
   "execution_count": 10,
   "metadata": {},
   "outputs": [],
   "source": [
    "if not os.path.exists(LABELIMG_PATH):\n",
    "    !mkdir {LABELIMG_PATH}\n",
    "    !git clone https://github.com/tzutalin/labelImg {LABELIMG_PATH}"
   ]
  },
  {
   "cell_type": "code",
   "execution_count": 11,
   "metadata": {},
   "outputs": [],
   "source": [
    "if os.name == 'posix':\n",
    "    !make qt5py3\n",
    "if os.name =='nt':\n",
    "    !cd {LABELIMG_PATH} && pyrcc5 -o libs/resources.py resources.qrc"
   ]
  },
  {
   "cell_type": "code",
   "execution_count": 12,
   "metadata": {},
   "outputs": [
    {
     "name": "stdout",
     "output_type": "stream",
     "text": [
      "Cancel creation.\n",
      "Cancel creation.\n",
      "Image:E:\\Tenserflow Object Detection\\TFODCourse\\Tensorflow\\workspace\\images\\collectedimages\\livelong\\livelong.34b693ee-40da-11ed-8cfa-0862664cae3f.jpg -> Annotation:E:/Tenserflow Object Detection/TFODCourse/Tensorflow/workspace/images/collectedimages/livelong\\livelong.34b693ee-40da-11ed-8cfa-0862664cae3f.xml\n",
      "Cancel creation.\n",
      "Image:E:\\Tenserflow Object Detection\\TFODCourse\\Tensorflow\\workspace\\images\\collectedimages\\livelong\\livelong.35ee0cca-40da-11ed-8bd8-0862664cae3f.jpg -> Annotation:E:/Tenserflow Object Detection/TFODCourse/Tensorflow/workspace/images/collectedimages/livelong\\livelong.35ee0cca-40da-11ed-8bd8-0862664cae3f.xml\n",
      "Image:E:\\Tenserflow Object Detection\\TFODCourse\\Tensorflow\\workspace\\images\\collectedimages\\livelong\\livelong.324ab330-40da-11ed-bba2-0862664cae3f.jpg -> Annotation:E:/Tenserflow Object Detection/TFODCourse/Tensorflow/workspace/images/collectedimages/livelong\\livelong.324ab330-40da-11ed-bba2-0862664cae3f.xml\n",
      "Image:E:\\Tenserflow Object Detection\\TFODCourse\\Tensorflow\\workspace\\images\\collectedimages\\livelong\\livelong.3723f87a-40da-11ed-9028-0862664cae3f.jpg -> Annotation:E:/Tenserflow Object Detection/TFODCourse/Tensorflow/workspace/images/collectedimages/livelong\\livelong.3723f87a-40da-11ed-9028-0862664cae3f.xml\n",
      "Cancel creation.\n",
      "Image:E:\\Tenserflow Object Detection\\TFODCourse\\Tensorflow\\workspace\\images\\collectedimages\\livelong\\livelong.33813538-40da-11ed-87e2-0862664cae3f.jpg -> Annotation:E:/Tenserflow Object Detection/TFODCourse/Tensorflow/workspace/images/collectedimages/livelong\\livelong.33813538-40da-11ed-87e2-0862664cae3f.xml\n",
      "Cancel creation.\n",
      "Image:E:\\Tenserflow Object Detection\\TFODCourse\\Tensorflow\\workspace\\images\\collectedimages\\thankyou\\thankyou.2b213466-40da-11ed-a34f-0862664cae3f.jpg -> Annotation:E:/Tenserflow Object Detection/TFODCourse/Tensorflow/workspace/images/collectedimages/thankyou\\thankyou.2b213466-40da-11ed-a34f-0862664cae3f.xml\n",
      "Image:E:\\Tenserflow Object Detection\\TFODCourse\\Tensorflow\\workspace\\images\\collectedimages\\thankyou\\thankyou.2c5b0112-40da-11ed-a5d5-0862664cae3f.jpg -> Annotation:E:/Tenserflow Object Detection/TFODCourse/Tensorflow/workspace/images/collectedimages/thankyou\\thankyou.2c5b0112-40da-11ed-a5d5-0862664cae3f.xml\n",
      "Image:E:\\Tenserflow Object Detection\\TFODCourse\\Tensorflow\\workspace\\images\\collectedimages\\thankyou\\thankyou.2d92a536-40da-11ed-a1d7-0862664cae3f.jpg -> Annotation:E:/Tenserflow Object Detection/TFODCourse/Tensorflow/workspace/images/collectedimages/thankyou\\thankyou.2d92a536-40da-11ed-a1d7-0862664cae3f.xml\n",
      "Cancel creation.\n",
      "Cancel creation.\n",
      "Image:E:\\Tenserflow Object Detection\\TFODCourse\\Tensorflow\\workspace\\images\\collectedimages\\thankyou\\thankyou.28ac7126-40da-11ed-9211-0862664cae3f.jpg -> Annotation:E:/Tenserflow Object Detection/TFODCourse/Tensorflow/workspace/images/collectedimages/thankyou\\thankyou.28ac7126-40da-11ed-9211-0862664cae3f.xml\n",
      "Image:E:\\Tenserflow Object Detection\\TFODCourse\\Tensorflow\\workspace\\images\\collectedimages\\thankyou\\thankyou.29e9f986-40da-11ed-b0fe-0862664cae3f.jpg -> Annotation:E:/Tenserflow Object Detection/TFODCourse/Tensorflow/workspace/images/collectedimages/thankyou\\thankyou.29e9f986-40da-11ed-b0fe-0862664cae3f.xml\n",
      "Image:E:\\Tenserflow Object Detection\\TFODCourse\\Tensorflow\\workspace\\images\\collectedimages\\thumbsdown\\thumbsdown.1f07cc1e-40da-11ed-9ebb-0862664cae3f.jpg -> Annotation:E:/Tenserflow Object Detection/TFODCourse/Tensorflow/workspace/images/collectedimages/thumbsdown\\thumbsdown.1f07cc1e-40da-11ed-9ebb-0862664cae3f.xml\n",
      "Image:E:\\Tenserflow Object Detection\\TFODCourse\\Tensorflow\\workspace\\images\\collectedimages\\thumbsdown\\thumbsdown.22c1cf26-40da-11ed-b15b-0862664cae3f.jpg -> Annotation:E:/Tenserflow Object Detection/TFODCourse/Tensorflow/workspace/images/collectedimages/thumbsdown\\thumbsdown.22c1cf26-40da-11ed-b15b-0862664cae3f.xml\n",
      "Image:E:\\Tenserflow Object Detection\\TFODCourse\\Tensorflow\\workspace\\images\\collectedimages\\thumbsdown\\thumbsdown.217cda9e-40da-11ed-9d7d-0862664cae3f.jpg -> Annotation:E:/Tenserflow Object Detection/TFODCourse/Tensorflow/workspace/images/collectedimages/thumbsdown\\thumbsdown.217cda9e-40da-11ed-9d7d-0862664cae3f.xml\n",
      "Image:E:\\Tenserflow Object Detection\\TFODCourse\\Tensorflow\\workspace\\images\\collectedimages\\thumbsdown\\thumbsdown.2044e11c-40da-11ed-8d1c-0862664cae3f.jpg -> Annotation:E:/Tenserflow Object Detection/TFODCourse/Tensorflow/workspace/images/collectedimages/thumbsdown\\thumbsdown.2044e11c-40da-11ed-8d1c-0862664cae3f.xml\n",
      "Image:E:\\Tenserflow Object Detection\\TFODCourse\\Tensorflow\\workspace\\images\\collectedimages\\thumbsdown\\thumbsdown.24076c30-40da-11ed-8f3e-0862664cae3f.jpg -> Annotation:E:/Tenserflow Object Detection/TFODCourse/Tensorflow/workspace/images/collectedimages/thumbsdown\\thumbsdown.24076c30-40da-11ed-8f3e-0862664cae3f.xml\n",
      "Image:E:\\Tenserflow Object Detection\\TFODCourse\\Tensorflow\\workspace\\images\\collectedimages\\thumbsup\\thumbsup.1a4fe524-40da-11ed-95e0-0862664cae3f.jpg -> Annotation:E:/Tenserflow Object Detection/TFODCourse/Tensorflow/workspace/images/collectedimages/thumbsup\\thumbsup.1a4fe524-40da-11ed-95e0-0862664cae3f.xml\n",
      "Image:E:\\Tenserflow Object Detection\\TFODCourse\\Tensorflow\\workspace\\images\\collectedimages\\thumbsup\\thumbsup.14d944b0-40da-11ed-a269-0862664cae3f.jpg -> Annotation:E:/Tenserflow Object Detection/TFODCourse/Tensorflow/workspace/images/collectedimages/thumbsup\\thumbsup.14d944b0-40da-11ed-a269-0862664cae3f.xml\n",
      "Image:E:\\Tenserflow Object Detection\\TFODCourse\\Tensorflow\\workspace\\images\\collectedimages\\thumbsup\\thumbsup.17d35f18-40da-11ed-b3da-0862664cae3f.jpg -> Annotation:E:/Tenserflow Object Detection/TFODCourse/Tensorflow/workspace/images/collectedimages/thumbsup\\thumbsup.17d35f18-40da-11ed-b3da-0862664cae3f.xml\n",
      "Image:E:\\Tenserflow Object Detection\\TFODCourse\\Tensorflow\\workspace\\images\\collectedimages\\thumbsup\\thumbsup.190d0dc8-40da-11ed-8100-0862664cae3f.jpg -> Annotation:E:/Tenserflow Object Detection/TFODCourse/Tensorflow/workspace/images/collectedimages/thumbsup\\thumbsup.190d0dc8-40da-11ed-8100-0862664cae3f.xml\n",
      "Image:E:\\Tenserflow Object Detection\\TFODCourse\\Tensorflow\\workspace\\images\\collectedimages\\thumbsup\\thumbsup.16941a86-40da-11ed-b1e2-0862664cae3f.jpg -> Annotation:E:/Tenserflow Object Detection/TFODCourse/Tensorflow/workspace/images/collectedimages/thumbsup\\thumbsup.16941a86-40da-11ed-b1e2-0862664cae3f.xml\n",
      "Image:E:\\Tenserflow Object Detection\\TFODCourse\\Tensorflow\\workspace\\images\\collectedimages\\thumbsdown\\thumbsdown.24076c30-40da-11ed-8f3e-0862664cae3f.jpg -> Annotation:E:/Tenserflow Object Detection/TFODCourse/Tensorflow/workspace/images/collectedimages/thumbsdown\\thumbsdown.24076c30-40da-11ed-8f3e-0862664cae3f.xml\n",
      "Image:E:\\Tenserflow Object Detection\\TFODCourse\\Tensorflow\\workspace\\images\\collectedimages\\thumbsdown\\thumbsdown.2044e11c-40da-11ed-8d1c-0862664cae3f.jpg -> Annotation:E:/Tenserflow Object Detection/TFODCourse/Tensorflow/workspace/images/collectedimages/thumbsdown\\thumbsdown.2044e11c-40da-11ed-8d1c-0862664cae3f.xml\n",
      "Image:E:\\Tenserflow Object Detection\\TFODCourse\\Tensorflow\\workspace\\images\\collectedimages\\thumbsdown\\thumbsdown.2044e11c-40da-11ed-8d1c-0862664cae3f.jpg -> Annotation:E:/Tenserflow Object Detection/TFODCourse/Tensorflow/workspace/images/collectedimages/thumbsdown\\thumbsdown.2044e11c-40da-11ed-8d1c-0862664cae3f.xml\n",
      "Cancel creation.\n",
      "Image:E:\\Tenserflow Object Detection\\TFODCourse\\Tensorflow\\workspace\\images\\collectedimages\\thumbsdown\\thumbsdown.217cda9e-40da-11ed-9d7d-0862664cae3f.jpg -> Annotation:E:/Tenserflow Object Detection/TFODCourse/Tensorflow/workspace/images/collectedimages/thumbsdown\\thumbsdown.217cda9e-40da-11ed-9d7d-0862664cae3f.xml\n",
      "Image:E:\\Tenserflow Object Detection\\TFODCourse\\Tensorflow\\workspace\\images\\collectedimages\\thumbsdown\\thumbsdown.22c1cf26-40da-11ed-b15b-0862664cae3f.jpg -> Annotation:E:/Tenserflow Object Detection/TFODCourse/Tensorflow/workspace/images/collectedimages/thumbsdown\\thumbsdown.22c1cf26-40da-11ed-b15b-0862664cae3f.xml\n",
      "Image:E:\\Tenserflow Object Detection\\TFODCourse\\Tensorflow\\workspace\\images\\collectedimages\\thumbsdown\\thumbsdown.1f07cc1e-40da-11ed-9ebb-0862664cae3f.jpg -> Annotation:E:/Tenserflow Object Detection/TFODCourse/Tensorflow/workspace/images/collectedimages/thumbsdown\\thumbsdown.1f07cc1e-40da-11ed-9ebb-0862664cae3f.xml\n"
     ]
    }
   ],
   "source": [
    "!cd {LABELIMG_PATH} && python labelImg.py"
   ]
  },
  {
   "cell_type": "markdown",
   "metadata": {},
   "source": [
    "# 6. Move them into a Training and Testing Partition"
   ]
  },
  {
   "cell_type": "markdown",
   "metadata": {},
   "source": [
    "# OPTIONAL - 7. Compress them for Colab Training"
   ]
  },
  {
   "cell_type": "code",
   "execution_count": 20,
   "metadata": {},
   "outputs": [],
   "source": [
    "TRAIN_PATH = os.path.join('Tensorflow', 'workspace', 'images', 'train')\n",
    "TEST_PATH = os.path.join('Tensorflow', 'workspace', 'images', 'test')\n",
    "ARCHIVE_PATH = os.path.join('Tensorflow', 'workspace', 'images', 'archive.tar.gz')"
   ]
  },
  {
   "cell_type": "code",
   "execution_count": 21,
   "metadata": {},
   "outputs": [],
   "source": [
    "!tar -czf {ARCHIVE_PATH} {TRAIN_PATH} {TEST_PATH}"
   ]
  },
  {
   "cell_type": "code",
   "execution_count": null,
   "metadata": {},
   "outputs": [],
   "source": []
  }
 ],
 "metadata": {
  "kernelspec": {
   "display_name": "tfod",
   "language": "python",
   "name": "tfod"
  },
  "language_info": {
   "codemirror_mode": {
    "name": "ipython",
    "version": 3
   },
   "file_extension": ".py",
   "mimetype": "text/x-python",
   "name": "python",
   "nbconvert_exporter": "python",
   "pygments_lexer": "ipython3",
   "version": "3.7.3"
  }
 },
 "nbformat": 4,
 "nbformat_minor": 2
}
